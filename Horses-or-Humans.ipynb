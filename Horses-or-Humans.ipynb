{
  "cells": [
    {
      "cell_type": "markdown",
      "metadata": {
        "id": "fnlWAtEIzoON"
      },
      "source": [
        "<a href=\"https://colab.research.google.com/github/https-deeplearning-ai/tensorflow-1-public/blob/master/C1/W4/ungraded_labs/C1_W4_Lab_3_compacted_images.ipynb\" target=\"_parent\"><img src=\"https://colab.research.google.com/assets/colab-badge.svg\" alt=\"Open In Colab\"/></a>"
      ]
    },
    {
      "cell_type": "code",
      "execution_count": null,
      "metadata": {
        "id": "RXZT2UsyIVe_"
      },
      "outputs": [],
      "source": [
        "# Download the training set\n",
        "!wget https://storage.googleapis.com/tensorflow-1-public/course2/week3/horse-or-human.zip"
      ]
    },
    {
      "cell_type": "code",
      "execution_count": null,
      "metadata": {
        "id": "0mLij6qde6Ox"
      },
      "outputs": [],
      "source": [
        "# Download the validation set\n",
        "!wget https://storage.googleapis.com/tensorflow-1-public/course2/week3/validation-horse-or-human.zip"
      ]
    },
    {
      "cell_type": "markdown",
      "metadata": {
        "id": "9brUxyTpYZHy"
      },
      "source": [
        "Then unzip them:"
      ]
    },
    {
      "cell_type": "code",
      "source": [
        "import zipfile\n",
        "local_zip1 = '/content/horse-or-human.zip'\n",
        "local_zip2 = '/content/validation-horse-or-human.zip'\n",
        "zip_ref1 = zipfile.ZipFile(local_zip1, 'r')\n",
        "zip_ref1.extractall('/content/horse-or-human')\n",
        "zip_ref1.close()\n",
        "zip_ref2 = zipfile.ZipFile(local_zip2, 'r')\n",
        "zip_ref2.extractall('/content/validation-horse-or-human')\n",
        "zip_ref2.close()\n"
      ],
      "metadata": {
        "id": "lbQnt0gK2j4z"
      },
      "execution_count": null,
      "outputs": []
    },
    {
      "cell_type": "markdown",
      "metadata": {
        "id": "o-qUPyfO7Qr8"
      },
      "source": [
        "Then define the directories containing the images:"
      ]
    },
    {
      "cell_type": "code",
      "source": [
        "import os\n",
        "train_horse_dir = os.path.join('/content/horse-or-human/horses')\n",
        "train_human_dir = os.path.join('/content/horse-or-human/humans')\n",
        "test_horse_dir = os.path.join('/content/validation-horse-or-human/horses')\n",
        "test_human_dir= os.path.join('/content/validation-horse-or-human/humans')\n"
      ],
      "metadata": {
        "id": "nI0Prhtn3Xp2"
      },
      "execution_count": null,
      "outputs": []
    },
    {
      "cell_type": "markdown",
      "metadata": {
        "id": "z1wrZCxTPw4m"
      },
      "source": [
        "You can check that the directories are not empty and that the train set has more images than the validation set:"
      ]
    },
    {
      "cell_type": "code",
      "source": [
        "train_horse_names = os.listdir(train_horse_dir)\n",
        "train_human_names = os.listdir(train_human_dir)\n",
        "test_human_names = os.listdir(test_human_dir)\n",
        "test_horse_names = os.listdir(test_horse_dir)"
      ],
      "metadata": {
        "id": "yMty5_YN4Dtu"
      },
      "execution_count": null,
      "outputs": []
    },
    {
      "cell_type": "code",
      "source": [
        "print(len(train_horse_names))\n",
        "print(len(train_human_names))\n",
        "print(len(test_horse_names))\n",
        "print(len(test_human_names))"
      ],
      "metadata": {
        "id": "iYpTJLuy4lCD"
      },
      "execution_count": null,
      "outputs": []
    },
    {
      "cell_type": "markdown",
      "metadata": {
        "id": "5oqBkNBJmtUv"
      },
      "source": [
        "## Build the Model\n",
        "\n",
        "The model will follow the same architecture as before but they key difference is in the `input_shape` parameter of the first `Conv2D` layer. Since you will be compacting the images later in the generator, you need to specify the expected image size here. So instead of 300x300 as in the previous two labs, you specify a smaller 150x150 array."
      ]
    },
    {
      "cell_type": "code",
      "source": [
        "import matplotlib.pyplot as plt\n",
        "import matplotlib.image as mpimg"
      ],
      "metadata": {
        "id": "M5tcqHXa463x"
      },
      "execution_count": null,
      "outputs": []
    },
    {
      "cell_type": "code",
      "source": [
        "fname = train_horse_names[0]\n",
        "os_sample_path = os.path.join(train_horse_dir, fname)\n",
        "sample = mpimg.imread(os_sample_path)\n",
        "plt.imshow(sample)\n",
        "plt.show()"
      ],
      "metadata": {
        "id": "Y9oZn0la5JRD"
      },
      "execution_count": null,
      "outputs": []
    },
    {
      "cell_type": "code",
      "source": [
        "sample.shape"
      ],
      "metadata": {
        "id": "4Mei3gkL5pEd"
      },
      "execution_count": null,
      "outputs": []
    },
    {
      "cell_type": "code",
      "source": [
        "import tensorflow as tf\n",
        "\n",
        "model = tf.keras.models.Sequential([tf.keras.layers.Conv2D(16, (3,3), input_shape = (300, 300,3), activation= 'relu'), tf.keras.layers.MaxPooling2D((2,2)),\n",
        "                                    tf.keras.layers.Conv2D(32, (3,3), activation= 'relu'), tf.keras.layers.MaxPooling2D((2,2)),\n",
        "                                    tf.keras.layers.Conv2D(32, (3,3), activation= 'relu'), tf.keras.layers.MaxPooling2D((2,2)),\n",
        "                                    tf.keras.layers.Conv2D(64, (3,3),  activation= 'relu'), tf.keras.layers.MaxPooling2D((2,2)),\n",
        "                                    tf.keras.layers.Conv2D(64, (3,3),  activation= 'relu'), tf.keras.layers.MaxPooling2D((2,2)),\n",
        "                                    tf.keras.layers.Flatten(),\n",
        "                                    tf.keras.layers.Dense(256, activation = 'relu'),\n",
        "                                    tf.keras.layers.Dense(1, activation = 'sigmoid')\n",
        "                                    ])"
      ],
      "metadata": {
        "id": "3_nqv5nc5t3Z"
      },
      "execution_count": null,
      "outputs": []
    },
    {
      "cell_type": "code",
      "source": [
        "from tensorflow.keras.preprocessing.image import ImageDataGenerator\n",
        "train_datagen = ImageDataGenerator(rescale = 1/255)\n",
        "train_datagenerator = train_datagen.flow_from_directory(\n",
        "    '/content/horse-or-human',\n",
        "    batch_size = 128,\n",
        "    target_size = (300, 300),\n",
        "    class_mode = 'binary'\n",
        ")\n",
        "\n",
        "test_datagen = ImageDataGenerator(rescale = 1/255)\n",
        "test_datagenerator = test_datagen.flow_from_directory(\n",
        "    '/content/validation-horse-or-human',\n",
        "    batch_size = 32,\n",
        "    target_size = (300, 300),\n",
        "    class_mode = 'binary'\n",
        ")\n",
        "\n",
        "\n",
        "\n"
      ],
      "metadata": {
        "id": "Egp2S1_l6_Xd"
      },
      "execution_count": null,
      "outputs": []
    },
    {
      "cell_type": "code",
      "source": [
        "model.compile(tf.optimizers.RMSprop(learning_rate = 0.001), metrics = 'accuracy', loss = 'mean_squared_error')"
      ],
      "metadata": {
        "id": "x6a9dhNZ8Xo1"
      },
      "execution_count": null,
      "outputs": []
    },
    {
      "cell_type": "code",
      "source": [
        "history = model.fit(\n",
        "    train_datagenerator,\n",
        "    steps_per_epoch = 8,\n",
        "    epochs = 15,\n",
        "    validation_data = test_datagenerator,\n",
        "    validation_steps = 8,\n",
        "    verbose = 1\n",
        ")"
      ],
      "metadata": {
        "id": "biMk5GSj7u53"
      },
      "execution_count": null,
      "outputs": []
    },
    {
      "cell_type": "code",
      "source": [
        "import numpy as np"
      ],
      "metadata": {
        "id": "NMMHnMVY_02s"
      },
      "execution_count": null,
      "outputs": []
    },
    {
      "cell_type": "code",
      "source": [
        "from google.colab import files\n",
        "from tensorflow.keras.utils import load_img,img_to_array\n",
        "\n",
        "uploaded = files.upload()\n",
        "\n",
        "for fn in uploaded.keys():\n",
        "  path = '/content/' + fn\n",
        "  img = load_img(path, target_size = (300, 300))\n",
        "  x = img_to_array(img)\n",
        "  x = x/255\n",
        "  x = np.expand_dims(x, axis = 0)\n",
        "  images = np.vstack([x])\n",
        "  classes = model.predict(images, batch_size = 10)\n",
        "  if classes[0]>0.5:\n",
        "    print(f'{fn} is human')\n",
        "  else :\n",
        "    print(f'{fn} is horse')\n"
      ],
      "metadata": {
        "id": "spylnCd49RnP"
      },
      "execution_count": null,
      "outputs": []
    },
    {
      "cell_type": "code",
      "execution_count": null,
      "metadata": {
        "id": "651IgjLyo-Jx"
      },
      "outputs": [],
      "source": [
        "from google.colab import runtime\n",
        "runtime.unassign()"
      ]
    },
    {
      "cell_type": "code",
      "source": [],
      "metadata": {
        "id": "XsjJin3fBmXT"
      },
      "execution_count": null,
      "outputs": []
    }
  ],
  "metadata": {
    "accelerator": "GPU",
    "colab": {
      "name": "C1_W4_Lab_3_compacted_images.ipynb",
      "private_outputs": true,
      "provenance": [],
      "gpuType": "T4"
    },
    "kernelspec": {
      "display_name": "Python 3",
      "name": "python3"
    },
    "language_info": {
      "codemirror_mode": {
        "name": "ipython",
        "version": 3
      },
      "file_extension": ".py",
      "mimetype": "text/x-python",
      "name": "python",
      "nbconvert_exporter": "python",
      "pygments_lexer": "ipython3",
      "version": "3.7.4"
    }
  },
  "nbformat": 4,
  "nbformat_minor": 0
}